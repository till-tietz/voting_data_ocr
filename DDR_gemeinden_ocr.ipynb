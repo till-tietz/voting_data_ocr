{
  "nbformat": 4,
  "nbformat_minor": 0,
  "metadata": {
    "colab": {
      "name": "DDR_gemeinden_ocr",
      "provenance": [],
      "authorship_tag": "ABX9TyM7MvuY9KVsCb2J9x20Wm3z",
      "include_colab_link": true
    },
    "kernelspec": {
      "display_name": "Python 3",
      "name": "python3"
    },
    "language_info": {
      "name": "python"
    }
  },
  "cells": [
    {
      "cell_type": "markdown",
      "metadata": {
        "id": "view-in-github",
        "colab_type": "text"
      },
      "source": [
        "<a href=\"https://colab.research.google.com/github/till-tietz/voting_data_ocr/blob/master/DDR_gemeinden_ocr.ipynb\" target=\"_parent\"><img src=\"https://colab.research.google.com/assets/colab-badge.svg\" alt=\"Open In Colab\"/></a>"
      ]
    },
    {
      "cell_type": "code",
      "metadata": {
        "id": "435Jjhblu3Qz"
      },
      "source": [
        "!apt install tesseract-ocr\n",
        "!apt-get install tesseract-ocr-[deu]\n",
        "!apt install libtesseract-dev\n",
        "!pip install pytesseract\n",
        "!pip install imageio\n",
        "!pip install re\n",
        "!pip install opencv2\n",
        "!pip install cluster\n",
        "!pip install path\n",
        "!pip install cv\n",
        "!pip install Pillow"
      ],
      "execution_count": null,
      "outputs": []
    },
    {
      "cell_type": "code",
      "metadata": {
        "id": "uBnpuOxJvdZd"
      },
      "source": [
        "import matplotlib.pyplot as plt\n",
        "import statistics as stat\n",
        "import math\n",
        "import pytesseract \n",
        "import imageio\n",
        "import re\n",
        "import cv\n",
        "import cv2\n",
        "import PIL\n",
        "import numpy as np\n",
        "import pandas as pd\n",
        "import cluster\n",
        "import itertools\n",
        "from pathlib import Path\n",
        "from pytesseract import Output\n",
        "from tensorflow.keras.preprocessing import image\n",
        "from os import listdir\n",
        "from os.path import isfile, join\n",
        "from google.colab.patches import cv2_imshow\n",
        "from PIL import Image"
      ],
      "execution_count": 20,
      "outputs": []
    },
    {
      "cell_type": "code",
      "metadata": {
        "colab": {
          "base_uri": "https://localhost:8080/"
        },
        "id": "bhVIeU04xe5F",
        "outputId": "15a892ae-57d8-47c5-e429-5e6e69ab29dc"
      },
      "source": [
        "!which tesseract"
      ],
      "execution_count": 21,
      "outputs": [
        {
          "output_type": "stream",
          "name": "stdout",
          "text": [
            "/usr/bin/tesseract\n"
          ]
        }
      ]
    },
    {
      "cell_type": "code",
      "metadata": {
        "id": "6mQYue7Awx_q"
      },
      "source": [
        "pytesseract.pytesseract.tesseract_cmd = (\n",
        "    r'/usr/bin/tesseract'\n",
        ")"
      ],
      "execution_count": 22,
      "outputs": []
    },
    {
      "cell_type": "code",
      "metadata": {
        "colab": {
          "base_uri": "https://localhost:8080/"
        },
        "id": "2hXK13W2_SKp",
        "outputId": "cfad8448-1c17-4ca5-947e-634eefbb71e7"
      },
      "source": [
        "pytesseract.get_languages()"
      ],
      "execution_count": 23,
      "outputs": [
        {
          "output_type": "execute_result",
          "data": {
            "text/plain": [
              "['eng', 'osd']"
            ]
          },
          "metadata": {},
          "execution_count": 23
        }
      ]
    },
    {
      "cell_type": "code",
      "metadata": {
        "colab": {
          "base_uri": "https://localhost:8080/"
        },
        "id": "teW8U1vn31yY",
        "outputId": "2b644acb-24a3-405e-c136-ca197fd02b2e"
      },
      "source": [
        "#adding drive as root directory\n",
        "from google.colab import drive\n",
        "drive.mount('/content/gdrive')"
      ],
      "execution_count": 24,
      "outputs": [
        {
          "output_type": "stream",
          "name": "stdout",
          "text": [
            "Mounted at /content/gdrive\n"
          ]
        }
      ]
    },
    {
      "cell_type": "code",
      "metadata": {
        "id": "EnNSPDyi37r-"
      },
      "source": [
        "#getting paths to image files\n",
        "path = \"/content/gdrive/My Drive/DDR_gemeinde_data\"\n",
        "img_files = [f for f in listdir(path) if isfile(join(path, f))]\n",
        "img_files = [\"/content/gdrive/My Drive/DDR_gemeinde_data/\" + s for s in img_files]"
      ],
      "execution_count": 25,
      "outputs": []
    },
    {
      "cell_type": "code",
      "metadata": {
        "id": "Tct_NG244LIC"
      },
      "source": [
        "#define function to load images and turn them into arrays \n",
        "def img_load(files):\n",
        "  img_array = []\n",
        "  for i in range(len(files)):\n",
        "    img_i = image.img_to_array(image.load_img(files[i]), dtype = 'uint8')\n",
        "    img_array.append(img_i)\n",
        "  return img_array"
      ],
      "execution_count": 26,
      "outputs": []
    },
    {
      "cell_type": "code",
      "metadata": {
        "id": "Rg2eVX7kmYA2"
      },
      "source": [
        "img = img_load(files = img_files[78:79])[0]"
      ],
      "execution_count": 27,
      "outputs": []
    },
    {
      "cell_type": "code",
      "metadata": {
        "id": "eZg3bY2h56Xe"
      },
      "source": [
        "# get grayscale image\n",
        "def get_grayscale(image):\n",
        "    return cv2.cvtColor(image, cv2.COLOR_BGR2GRAY)\n",
        "\n",
        "# noise removal\n",
        "def remove_noise(image):\n",
        "    return cv2.bilateralFilter(image,9,75,75)\n",
        " \n",
        "#thresholding\n",
        "def thresholding(image):\n",
        "    return cv2.threshold(image, 0, 255, cv2.THRESH_OTSU)[1]\n",
        "\n",
        "#dilation\n",
        "def dilate(image):\n",
        "    kernel = np.ones((5,5),np.uint8)\n",
        "    return cv2.dilate(image, kernel, iterations = 1)\n",
        "    \n",
        "#erosion\n",
        "def erode(image):\n",
        "    kernel = np.ones((5,5),np.uint8)\n",
        "    return cv2.erode(image, kernel, iterations = 1)\n",
        "\n",
        "#opening - erosion followed by dilation\n",
        "def opening(image):\n",
        "    kernel = np.ones((5,5),np.uint8)\n",
        "    return cv2.morphologyEx(image, cv2.MORPH_OPEN, kernel)\n",
        "\n",
        "#canny edge detection\n",
        "def canny(image):\n",
        "    return cv2.Canny(image, 100, 200)\n",
        "\n",
        "#skew correction\n",
        "def deskew(image):\n",
        "    coords = np.column_stack(np.where(image > 0))\n",
        "    angle = cv2.minAreaRect(coords)[-1]\n",
        "    if angle < -45:\n",
        "      angle = -(90 + angle)\n",
        "    else:\n",
        "        angle = -angle\n",
        "    (h, w) = image.shape[:2]\n",
        "    center = (w // 2, h // 2)\n",
        "    M = cv2.getRotationMatrix2D(center, angle, 1.0)\n",
        "    rotated = cv2.warpAffine(image, M, (w, h), flags=cv2.INTER_CUBIC, borderMode=cv2.BORDER_REPLICATE)\n",
        "    return rotated\n",
        "\n",
        "#template matching\n",
        "def match_template(image, template):\n",
        "    return cv2.matchTemplate(image, template, cv2.TM_CCOEFF_NORMED)"
      ],
      "execution_count": 28,
      "outputs": []
    },
    {
      "cell_type": "code",
      "metadata": {
        "id": "ARj3gARr7QAv"
      },
      "source": [
        "img = get_grayscale(image = img)\n",
        "img = remove_noise(image = img)\n",
        "img = opening(image = img)"
      ],
      "execution_count": 29,
      "outputs": []
    },
    {
      "cell_type": "code",
      "metadata": {
        "id": "C8y2S9JN7mKd"
      },
      "source": [
        "ocr = pytesseract.image_to_data(img, output_type = Output.DICT, lang = \"deu\")"
      ],
      "execution_count": 30,
      "outputs": []
    },
    {
      "cell_type": "code",
      "metadata": {
        "id": "wF4T_ZJU8Alr"
      },
      "source": [
        "n_boxes = len(ocr['text'])\n",
        "for i in range(n_boxes):\n",
        "    if int(ocr['conf'][i]) > 0:\n",
        "        (x, y, w, h) = (ocr['left'][i], ocr['top'][i], ocr['width'][i], ocr['height'][i])\n",
        "        img_2 = cv2.rectangle(img, (x, y), (x + w, y + h), (0, 255, 0), 2)\n",
        "\n",
        "cv2_imshow(img_2)\n"
      ],
      "execution_count": null,
      "outputs": []
    },
    {
      "cell_type": "code",
      "metadata": {
        "id": "XRxdU7J4n3PG"
      },
      "source": [
        "#detect rows by y axis position cluster\n",
        "row_cl = cluster.HierarchicalClustering(ocr['top'], lambda x,y: abs(x-y))\n",
        "row_cl = row_cl.getlevel(20)"
      ],
      "execution_count": 83,
      "outputs": []
    },
    {
      "cell_type": "code",
      "metadata": {
        "id": "bc3Rxk7tv_US"
      },
      "source": [
        "#detect columns by x axis position cluster\n",
        "col_cl = cluster.HierarchicalClustering(ocr['left'], lambda x,y: abs(x-y))\n",
        "col_cl = col_cl.getlevel(150)"
      ],
      "execution_count": 33,
      "outputs": []
    },
    {
      "cell_type": "code",
      "metadata": {
        "id": "KvNAGn-m0yqU"
      },
      "source": [
        "#sort columns left to right \n",
        "col_cl.sort(key = stat.median)"
      ],
      "execution_count": 34,
      "outputs": []
    },
    {
      "cell_type": "code",
      "metadata": {
        "id": "SReXQL2fCBq5"
      },
      "source": [
        "#sort rows top to bottom \n",
        "row_cl.sort(key = stat.median)"
      ],
      "execution_count": 35,
      "outputs": []
    },
    {
      "cell_type": "code",
      "metadata": {
        "id": "PuB9vRi3xpBG"
      },
      "source": [
        "#get data ids of elements in each col to acces text with \n",
        "col_data_ids = []\n",
        "for i in range(len(col_cl)):\n",
        "  def condition(x, vals): return x in vals\n",
        "  col_data_ids.append([idx for idx, element in enumerate(ocr['left']) if condition(element, col_cl[i])])\n"
      ],
      "execution_count": 36,
      "outputs": []
    },
    {
      "cell_type": "code",
      "metadata": {
        "id": "X3nCDLBkypNE"
      },
      "source": [
        "[ocr['text'][i] for i in col_data_ids[4]]"
      ],
      "execution_count": null,
      "outputs": []
    },
    {
      "cell_type": "code",
      "metadata": {
        "id": "hexp28a1p62x"
      },
      "source": [
        "#get data ids of elements in each row to acces text with \n",
        "row_data_ids = []\n",
        "for i in range(len(row_cl)):\n",
        "  def condition(x, vals): return x in vals\n",
        "  row_data_ids.append([idx for idx, element in enumerate(ocr['top']) if condition(element, row_cl[i])])"
      ],
      "execution_count": 37,
      "outputs": []
    },
    {
      "cell_type": "code",
      "metadata": {
        "id": "v7VRKYMxrdB9"
      },
      "source": [
        "#get text for each row \n",
        "[ocr['text'][i] for i in row_data_ids[6]]"
      ],
      "execution_count": null,
      "outputs": []
    },
    {
      "cell_type": "code",
      "metadata": {
        "id": "ZbBLq7y_KJKk"
      },
      "source": [
        "#which rows to keep\n",
        "\n",
        "test_string = [\"Gemeinde\",\"Nr\",\"Klasse\",\"Nr.\",\"klasse\",\"Nr,\",\"Gem.\",\"Gem.-\"]\n",
        "\n",
        "test_len = []\n",
        "for i in range(len(row_data_ids)):\n",
        "  row_i = [ocr['text'][j] for j in row_data_ids[i]]\n",
        "  test_len.append(len(list(set(test_string).intersection(row_i))))\n"
      ],
      "execution_count": 38,
      "outputs": []
    },
    {
      "cell_type": "code",
      "metadata": {
        "id": "HUH-jwBZWCae"
      },
      "source": [
        "#which rows to keep\n",
        "rows = row_data_ids[(test_len.index(max(test_len)) + 1):]"
      ],
      "execution_count": 39,
      "outputs": []
    },
    {
      "cell_type": "code",
      "metadata": {
        "id": "WaylHA0NN1DK"
      },
      "source": [
        "#which cols to keep\n",
        "\n",
        "col_string = [\"Name\",\"Gemeinde\",\"Nr\",\"Nr.\",\"Nr,\",\"Gem.\",\"Gem.-\"]\n",
        "\n",
        "col_keep = []\n",
        "for i in range(len(col_data_ids)):\n",
        "  col_i = [ocr['text'][j] for j in col_data_ids[i]]\n",
        "  col_keep.append(len(list(set(col_string).intersection(col_i))))\n"
      ],
      "execution_count": 40,
      "outputs": []
    },
    {
      "cell_type": "code",
      "metadata": {
        "id": "ICXKFBaldwPZ"
      },
      "source": [
        "#which cols to keep\n",
        "cols = [e for i, e in enumerate(col_data_ids) if i in [i for i, e in enumerate(col_keep) if e > 0]]\n"
      ],
      "execution_count": 41,
      "outputs": []
    },
    {
      "cell_type": "code",
      "metadata": {
        "id": "zuVMF7FFj_aX"
      },
      "source": [
        "results_set_1 = []\n",
        "\n",
        "for i in range(len(rows)):\n",
        "  row_i = rows[i]\n",
        "  set_1 = sorted(list(set(row_i).intersection(list(itertools.chain.from_iterable(cols[:2])))))\n",
        "  set_1 = list(filter(len,[ocr['text'][i] for i in set_1]))\n",
        "  set_1 = [int(ele) if ele.isdigit() else ele for ele in set_1]\n",
        "  results_set_1.append(set_1)"
      ],
      "execution_count": 44,
      "outputs": []
    },
    {
      "cell_type": "code",
      "metadata": {
        "id": "bRbUMuoBNvSJ"
      },
      "source": [
        "results_set_2 = []\n",
        "\n",
        "for i in range(len(rows)):\n",
        "  row_i = rows[i]\n",
        "  set_2 = sorted(list(set(row_i).intersection(list(itertools.chain.from_iterable(cols[2:])))))\n",
        "  set_2 = list(filter(len,[ocr['text'][i] for i in set_2]))\n",
        "  set_2 = [int(ele) if ele.isdigit() else ele for ele in set_2]\n",
        "  results_set_2.append(set_2)"
      ],
      "execution_count": null,
      "outputs": []
    },
    {
      "cell_type": "code",
      "metadata": {
        "id": "yHLbRPMBqYFO"
      },
      "source": [
        "a = results_set_1[2]"
      ],
      "execution_count": 47,
      "outputs": []
    },
    {
      "cell_type": "code",
      "metadata": {
        "id": "24SI-f1ONrS7"
      },
      "source": [
        "#get strings\n",
        "def condition(x): return type(x) == str\n",
        "\n",
        "join_id = [idx for idx, element in enumerate(a) if condition(element)]"
      ],
      "execution_count": 73,
      "outputs": []
    },
    {
      "cell_type": "code",
      "metadata": {
        "id": "s-wpzKdsSYx-"
      },
      "source": [
        "#merge strings\n",
        "\"\".join([a[i] for i in join_id])"
      ],
      "execution_count": null,
      "outputs": []
    },
    {
      "cell_type": "code",
      "metadata": {
        "id": "7fo7wiBORqrf"
      },
      "source": [
        "#test if row is empty \n",
        "all(' ' == s or '' == s for s in results_set_1[0])"
      ],
      "execution_count": null,
      "outputs": []
    }
  ]
}